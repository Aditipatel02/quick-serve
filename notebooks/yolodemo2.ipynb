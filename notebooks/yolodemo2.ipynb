{
 "cells": [
  {
   "cell_type": "code",
   "execution_count": 1,
   "metadata": {},
   "outputs": [],
   "source": [
    "from pyvision.detection import yolov3"
   ]
  },
  {
   "cell_type": "code",
   "execution_count": 2,
   "metadata": {
    "tags": []
   },
   "outputs": [
    {
     "name": "stdout",
     "output_type": "stream",
     "text": [
      "Weight file exists.\n"
     ]
    }
   ],
   "source": [
    "yolo = yolov3.YOLOv3(model=\"yolov3-tiny\")\n",
    "\n",
    "\n",
    "def inference(img):\n",
    "    _, img, _ = yolo.detect(img, save=False, show=False, draw=True)\n",
    "    return img"
   ]
  },
  {
   "cell_type": "code",
   "execution_count": 3,
   "metadata": {},
   "outputs": [
    {
     "name": "stdout",
     "output_type": "stream",
     "text": [
      "The url is : http://52a7b8d76df4.ngrok.io\n",
      " * Serving Flask app \"quickserve.web.engine\" (lazy loading)\n",
      " * Environment: production\n",
      "\u001b[31m   WARNING: This is a development server. Do not use it in a production deployment.\u001b[0m\n",
      "\u001b[2m   Use a production WSGI server instead.\u001b[0m\n",
      " * Debug mode: off\n"
     ]
    },
    {
     "name": "stderr",
     "output_type": "stream",
     "text": [
      " * Running on http://127.0.0.1:5001/ (Press CTRL+C to quit)\n",
      "log: setting cors\n",
      "127.0.0.1 - - [20/Sep/2020 14:19:26] \"\u001b[37mGET / HTTP/1.1\u001b[0m\" 200 -\n",
      "log: setting cors\n",
      "127.0.0.1 - - [20/Sep/2020 14:19:27] \"\u001b[37mGET /static/css/styles.css HTTP/1.1\u001b[0m\" 200 -\n",
      "log: setting cors\n",
      "127.0.0.1 - - [20/Sep/2020 14:19:28] \"\u001b[37mGET /static/js/index.js HTTP/1.1\u001b[0m\" 200 -\n",
      "log: setting cors\n",
      "127.0.0.1 - - [20/Sep/2020 14:19:28] \"\u001b[37mGET /static/assets/pannaa-01.png HTTP/1.1\u001b[0m\" 200 -\n",
      "log: setting cors\n",
      "127.0.0.1 - - [20/Sep/2020 14:19:29] \"\u001b[33mGET /favicon.ico HTTP/1.1\u001b[0m\" 404 -\n",
      "log: setting cors\n",
      "127.0.0.1 - - [20/Sep/2020 14:19:30] \"\u001b[33mGET /favicon.ico HTTP/1.1\u001b[0m\" 404 -\n",
      "/home/pranjal/anaconda3/envs/autoblur/lib/python3.7/site-packages/pyvision/detection/yolov3/utils/utils.py:95: UserWarning: This overload of nonzero is deprecated:\n",
      "\tnonzero(Tensor input, *, Tensor out)\n",
      "Consider using one of the following signatures instead:\n",
      "\tnonzero(Tensor input, *, bool as_tuple) (Triggered internally at  /pytorch/torch/csrc/utils/python_arg_parser.cpp:766.)\n",
      "  ind_nz = torch.nonzero(preds[:,:,4]).transpose(0,1).contiguous()\n",
      "log: setting cors\n",
      "127.0.0.1 - - [20/Sep/2020 14:19:49] \"\u001b[37mPOST /infer HTTP/1.1\u001b[0m\" 200 -\n",
      "log: setting cors\n",
      "127.0.0.1 - - [20/Sep/2020 14:20:39] \"\u001b[37mGET / HTTP/1.1\u001b[0m\" 200 -\n",
      "log: setting cors\n",
      "127.0.0.1 - - [20/Sep/2020 14:20:40] \"\u001b[37mGET /static/css/styles.css HTTP/1.1\u001b[0m\" 200 -\n",
      "log: setting cors\n",
      "127.0.0.1 - - [20/Sep/2020 14:20:40] \"\u001b[37mGET /static/js/index.js HTTP/1.1\u001b[0m\" 200 -\n",
      "log: setting cors\n",
      "127.0.0.1 - - [20/Sep/2020 14:20:41] \"\u001b[37mGET /static/assets/pannaa-01.png HTTP/1.1\u001b[0m\" 200 -\n",
      "log: setting cors\n",
      "127.0.0.1 - - [20/Sep/2020 14:20:42] \"\u001b[33mGET /favicon.ico HTTP/1.1\u001b[0m\" 404 -\n",
      "log: setting cors\n",
      "127.0.0.1 - - [20/Sep/2020 14:20:47] \"\u001b[37mPOST /infer HTTP/1.1\u001b[0m\" 200 -\n",
      "log: setting cors\n",
      "127.0.0.1 - - [20/Sep/2020 14:21:08] \"\u001b[37mGET / HTTP/1.1\u001b[0m\" 200 -\n",
      "log: setting cors\n",
      "127.0.0.1 - - [20/Sep/2020 14:21:15] \"\u001b[37mGET / HTTP/1.1\u001b[0m\" 200 -\n",
      "log: setting cors\n",
      "127.0.0.1 - - [20/Sep/2020 14:21:16] \"\u001b[37mGET /static/css/styles.css HTTP/1.1\u001b[0m\" 200 -\n",
      "log: setting cors\n",
      "127.0.0.1 - - [20/Sep/2020 14:21:16] \"\u001b[37mGET /static/assets/pannaa-01.png HTTP/1.1\u001b[0m\" 200 -\n",
      "log: setting cors\n",
      "127.0.0.1 - - [20/Sep/2020 14:21:17] \"\u001b[37mGET /static/js/index.js HTTP/1.1\u001b[0m\" 200 -\n",
      "log: setting cors\n",
      "127.0.0.1 - - [20/Sep/2020 14:21:19] \"\u001b[33mGET /favicon.ico HTTP/1.1\u001b[0m\" 404 -\n",
      "log: setting cors\n",
      "127.0.0.1 - - [20/Sep/2020 14:21:35] \"\u001b[37mGET / HTTP/1.1\u001b[0m\" 200 -\n",
      "log: setting cors\n",
      "127.0.0.1 - - [20/Sep/2020 14:21:36] \"\u001b[37mGET /static/css/styles.css HTTP/1.1\u001b[0m\" 200 -\n",
      "log: setting cors\n",
      "127.0.0.1 - - [20/Sep/2020 14:21:36] \"\u001b[37mGET /static/js/index.js HTTP/1.1\u001b[0m\" 200 -\n",
      "log: setting cors\n",
      "127.0.0.1 - - [20/Sep/2020 14:21:36] \"\u001b[37mGET /static/assets/pannaa-01.png HTTP/1.1\u001b[0m\" 200 -\n",
      "log: setting cors\n",
      "127.0.0.1 - - [20/Sep/2020 14:21:40] \"\u001b[33mGET /favicon.ico HTTP/1.1\u001b[0m\" 404 -\n"
     ]
    }
   ],
   "source": [
    "from quickserve.tunnel import NGROK\n",
    "\n",
    "sw = NGROK(\"images\", action=inference, action_input_type=\"PIL\", template=\"default_template\")\n",
    "sw.establish_tunnel()"
   ]
  },
  {
   "cell_type": "code",
   "execution_count": null,
   "metadata": {},
   "outputs": [],
   "source": []
  }
 ],
 "metadata": {
  "kernelspec": {
   "display_name": "Python 3.7.1 64-bit ('autoblur': conda)",
   "language": "python",
   "name": "python37164bitautoblurconda8e4e10fe89a74045a49408837222a6d2"
  },
  "language_info": {
   "codemirror_mode": {
    "name": "ipython",
    "version": 3
   },
   "file_extension": ".py",
   "mimetype": "text/x-python",
   "name": "python",
   "nbconvert_exporter": "python",
   "pygments_lexer": "ipython3",
   "version": "3.7.1"
  }
 },
 "nbformat": 4,
 "nbformat_minor": 4
}
