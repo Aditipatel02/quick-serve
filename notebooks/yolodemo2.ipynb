{
 "cells": [
  {
   "cell_type": "code",
   "execution_count": null,
   "metadata": {},
   "outputs": [],
   "source": [
    "from pyvision.detection import yolov3"
   ]
  },
  {
   "cell_type": "code",
   "execution_count": 2,
   "metadata": {
    "tags": []
   },
   "outputs": [
    {
     "name": "stdout",
     "output_type": "stream",
     "text": [
      "Weight file exists.\n"
     ]
    }
   ],
   "source": [
    "yolo = yolov3.YOLOv3(model=\"yolov3-tiny\")\n",
    "\n",
    "\n",
    "def inference(img):\n",
    "    _, img, _ = yolo.detect(img, save=False, show=False, draw=True)\n",
    "    return img"
   ]
  },
  {
   "cell_type": "code",
   "execution_count": null,
   "metadata": {},
   "outputs": [
    {
     "name": "stdout",
     "output_type": "stream",
     "text": [
      "The url is : http://b0494bc8ce0b.ngrok.io\n",
      " * Serving Flask app \"quickserve.web.engine\" (lazy loading)\n",
      " * Environment: production\n",
      "\u001b[31m   WARNING: This is a development server. Do not use it in a production deployment.\u001b[0m\n",
      "\u001b[2m   Use a production WSGI server instead.\u001b[0m\n",
      " * Debug mode: off\n"
     ]
    },
    {
     "name": "stderr",
     "output_type": "stream",
     "text": [
      " * Running on http://127.0.0.1:5001/ (Press CTRL+C to quit)\n",
      "log: setting cors\n",
      "127.0.0.1 - - [20/Sep/2020 09:04:00] \"\u001b[37mGET / HTTP/1.1\u001b[0m\" 200 -\n"
     ]
    }
   ],
   "source": [
    "from quickserve.tunnel import NGROK\n",
    "\n",
    "sw = NGROK(\"images\", action=inference, action_input_type=\"PIL\", template=\"test_template\")\n",
    "sw.establish_tunnel()"
   ]
  },
  {
   "cell_type": "code",
   "execution_count": null,
   "metadata": {},
   "outputs": [],
   "source": []
  }
 ],
 "metadata": {
  "kernelspec": {
   "display_name": "Python 3.7.1 64-bit ('autoblur': conda)",
   "language": "python",
   "name": "python37164bitautoblurconda8e4e10fe89a74045a49408837222a6d2"
  },
  "language_info": {
   "codemirror_mode": {
    "name": "ipython",
    "version": 3
   },
   "file_extension": ".py",
   "mimetype": "text/x-python",
   "name": "python",
   "nbconvert_exporter": "python",
   "pygments_lexer": "ipython3",
   "version": "3.7.1"
  }
 },
 "nbformat": 4,
 "nbformat_minor": 4
}
