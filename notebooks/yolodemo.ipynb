{
 "metadata": {
  "language_info": {
   "codemirror_mode": {
    "name": "ipython",
    "version": 3
   },
   "file_extension": ".py",
   "mimetype": "text/x-python",
   "name": "python",
   "nbconvert_exporter": "python",
   "pygments_lexer": "ipython3",
   "version": "3.7.1-final"
  },
  "orig_nbformat": 2,
  "kernelspec": {
   "name": "python_defaultSpec_1600543834240",
   "display_name": "Python 3.7.1 64-bit ('autoblur': conda)"
  }
 },
 "nbformat": 4,
 "nbformat_minor": 2,
 "cells": [
  {
   "cell_type": "code",
   "execution_count": 1,
   "metadata": {},
   "outputs": [],
   "source": [
    "# Our module!\n",
    "from quickserve.web import ServeWeb\n",
    "\n",
    "# An OSS tool \n",
    "from pyvision.detection import yolov3"
   ]
  },
  {
   "cell_type": "code",
   "execution_count": 2,
   "metadata": {
    "tags": []
   },
   "outputs": [
    {
     "output_type": "stream",
     "name": "stdout",
     "text": "Weight file exists.\n"
    }
   ],
   "source": [
    "# Lets initialize our yolo module \n",
    "# This cell and any number of cells from \n",
    "# here on out are all your ML work. \n",
    "# Since this is a demo, we are gonna use \n",
    "# this PyVision library as it enables us to \n",
    "# use SOTA CV architectures in a few line\n",
    "\n",
    "yolo = yolov3.YOLOv3(model=\"yolov3-tiny\")"
   ]
  },
  {
   "cell_type": "code",
   "execution_count": 3,
   "metadata": {},
   "outputs": [],
   "source": [
    "# Lets build the inference function. \n",
    "# Based on the common ML principle that \n",
    "# ALL ML model inference can be wrapped in \n",
    "# a function: this function is passed onto the \n",
    "# the API \n",
    "# As is clearly visible, the author needn't bother about \n",
    "# the how's of communication \n",
    "\n",
    "def inference(img):\n",
    "    _, img, _ = yolo.detect(img, save=False, show=False, draw=True)\n",
    "    return img"
   ]
  },
  {
   "cell_type": "code",
   "execution_count": 6,
   "metadata": {
    "tags": []
   },
   "outputs": [
    {
     "output_type": "stream",
     "name": "stdout",
     "text": "* Serving Flask app \"quickserve.web.engine\" (lazy loading)\n * Environment: production\n\u001b[31m   WARNING: This is a development server. Do not use it in a production deployment.\u001b[0m\n\u001b[2m   Use a production WSGI server instead.\u001b[0m\n * Debug mode: off\n * Running on http://127.0.0.1:5001/ (Press CTRL+C to quit)\nlog: setting cors\n127.0.0.1 - - [20/Sep/2020 01:12:07] \"\u001b[37mGET / HTTP/1.1\u001b[0m\" 200 -\nlog: setting cors\n127.0.0.1 - - [20/Sep/2020 01:12:07] \"\u001b[37mGET /static/css/index.css HTTP/1.1\u001b[0m\" 200 -\nlog: setting cors\n127.0.0.1 - - [20/Sep/2020 01:12:07] \"\u001b[37mGET /static/js/index.js HTTP/1.1\u001b[0m\" 200 -\nlog: setting cors\n127.0.0.1 - - [20/Sep/2020 01:12:07] \"\u001b[33mGET /static/assets/image-placeholder.jpg HTTP/1.1\u001b[0m\" 404 -\nlog: setting cors\n127.0.0.1 - - [20/Sep/2020 01:12:07] \"\u001b[33mGET /static/assets/favicon.ico HTTP/1.1\u001b[0m\" 404 -\nlog: setting cors\n127.0.0.1 - - [20/Sep/2020 01:12:35] \"\u001b[37mPOST /infer HTTP/1.1\u001b[0m\" 200 -\n"
    }
   ],
   "source": [
    "# From here on out, just two lines! \n",
    "# Instantiate and call!\n",
    "\n",
    "sw = ServeWeb(input_type=\"image\", action_input_type=\"PIL\", action=inference, template=\"test_template\")\n",
    "sw.serve()"
   ]
  },
  {
   "cell_type": "code",
   "execution_count": null,
   "metadata": {},
   "outputs": [],
   "source": []
  }
 ]
}